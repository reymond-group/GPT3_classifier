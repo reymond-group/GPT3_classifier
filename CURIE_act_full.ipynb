{
 "cells": [
  {
   "cell_type": "code",
   "execution_count": 1,
   "metadata": {},
   "outputs": [],
   "source": [
    "import pandas as pd \n",
    "import openai\n",
    "import json\n",
    "\n",
    "openai.organization = 'YOUR ORGANIZATION ID'\n",
    "openai.api_key = 'YOUR API KEY'"
   ]
  },
  {
   "attachments": {},
   "cell_type": "markdown",
   "metadata": {},
   "source": [
    "Read and format data"
   ]
  },
  {
   "cell_type": "code",
   "execution_count": 10,
   "metadata": {},
   "outputs": [],
   "source": [
    "df = pd.read_csv('data/fine_tune_activity.csv')\n",
    "\n",
    "# Training set\n",
    "df_train = df[df['Set'] == 'training']\n",
    "df_train = df_train[['Sequence', 'activity']]\n",
    "df_train.columns = ['prompt', 'completion']\n",
    "df_train.to_json('data/activity_seq_train.jsonl', orient='records', lines=True)\n",
    "\n",
    "# Test set\n",
    "df_test = df[df['Set'] == 'test']\n",
    "df_test = df_test[['Sequence', 'activity']]\n",
    "df_test.columns = ['prompt', 'completion']\n",
    "df_test.to_json('data/activity_seq_test.jsonl', orient='records', lines=True)"
   ]
  },
  {
   "attachments": {},
   "cell_type": "markdown",
   "metadata": {},
   "source": [
    "Prepare data for submission with OpenAI API"
   ]
  },
  {
   "cell_type": "code",
   "execution_count": null,
   "metadata": {},
   "outputs": [],
   "source": [
    "# openai tools fine_tunes.prepare_data -f seqs.jsonl     "
   ]
  },
  {
   "attachments": {},
   "cell_type": "markdown",
   "metadata": {},
   "source": [
    "Train the model"
   ]
  },
  {
   "cell_type": "code",
   "execution_count": null,
   "metadata": {},
   "outputs": [],
   "source": [
    "# openai --api-key 'YOUR API KEY' api fine_tunes.create -t \"activity_seq_train_prepared.jsonl\" -v \"activity_seq_test_prepared.jsonl\" --compute_classification_metrics --classification_positive_class \" 1\" --model curie --suffix 'activity' --n_epochs 10"
   ]
  },
  {
   "cell_type": "code",
   "execution_count": null,
   "metadata": {},
   "outputs": [],
   "source": [
    "# openai --api-key 'YOUR API KEY' api fine_tunes.follow -i ft-j9wRSObE5kIuQ3Bo52hszmdz"
   ]
  },
  {
   "attachments": {},
   "cell_type": "markdown",
   "metadata": {},
   "source": [
    "Check results of classification"
   ]
  },
  {
   "cell_type": "code",
   "execution_count": null,
   "metadata": {},
   "outputs": [],
   "source": [
    "# openai --api-key 'YOUR API KEY' api fine_tunes.results -i ft-j9wRSObE5kIuQ3Bo52hszmdz > curie_result_activity.csv"
   ]
  },
  {
   "cell_type": "code",
   "execution_count": 3,
   "metadata": {},
   "outputs": [
    {
     "data": {
      "text/html": [
       "<div>\n",
       "<style scoped>\n",
       "    .dataframe tbody tr th:only-of-type {\n",
       "        vertical-align: middle;\n",
       "    }\n",
       "\n",
       "    .dataframe tbody tr th {\n",
       "        vertical-align: top;\n",
       "    }\n",
       "\n",
       "    .dataframe thead th {\n",
       "        text-align: right;\n",
       "    }\n",
       "</style>\n",
       "<table border=\"1\" class=\"dataframe\">\n",
       "  <thead>\n",
       "    <tr style=\"text-align: right;\">\n",
       "      <th></th>\n",
       "      <th>step</th>\n",
       "      <th>elapsed_tokens</th>\n",
       "      <th>elapsed_examples</th>\n",
       "      <th>training_loss</th>\n",
       "      <th>training_sequence_accuracy</th>\n",
       "      <th>training_token_accuracy</th>\n",
       "      <th>validation_loss</th>\n",
       "      <th>validation_sequence_accuracy</th>\n",
       "      <th>validation_token_accuracy</th>\n",
       "      <th>classification/accuracy</th>\n",
       "      <th>classification/precision</th>\n",
       "      <th>classification/recall</th>\n",
       "      <th>classification/auroc</th>\n",
       "      <th>classification/auprc</th>\n",
       "      <th>classification/f1.0</th>\n",
       "    </tr>\n",
       "  </thead>\n",
       "  <tbody>\n",
       "    <tr>\n",
       "      <th>8950</th>\n",
       "      <td>8951</td>\n",
       "      <td>1955448</td>\n",
       "      <td>71608</td>\n",
       "      <td>0.014306</td>\n",
       "      <td>1.0</td>\n",
       "      <td>1.0</td>\n",
       "      <td>NaN</td>\n",
       "      <td>NaN</td>\n",
       "      <td>NaN</td>\n",
       "      <td>0.791876</td>\n",
       "      <td>0.781275</td>\n",
       "      <td>0.81072</td>\n",
       "      <td>0.863555</td>\n",
       "      <td>0.870517</td>\n",
       "      <td>0.795725</td>\n",
       "    </tr>\n",
       "  </tbody>\n",
       "</table>\n",
       "</div>"
      ],
      "text/plain": [
       "      step  elapsed_tokens  elapsed_examples  training_loss  \\\n",
       "8950  8951         1955448             71608       0.014306   \n",
       "\n",
       "      training_sequence_accuracy  training_token_accuracy  validation_loss  \\\n",
       "8950                         1.0                      1.0              NaN   \n",
       "\n",
       "      validation_sequence_accuracy  validation_token_accuracy  \\\n",
       "8950                           NaN                        NaN   \n",
       "\n",
       "      classification/accuracy  classification/precision  \\\n",
       "8950                 0.791876                  0.781275   \n",
       "\n",
       "      classification/recall  classification/auroc  classification/auprc  \\\n",
       "8950                0.81072              0.863555              0.870517   \n",
       "\n",
       "      classification/f1.0  \n",
       "8950             0.795725  "
      ]
     },
     "execution_count": 3,
     "metadata": {},
     "output_type": "execute_result"
    }
   ],
   "source": [
    "results = pd.read_csv('data/curie_result_activity.csv')\n",
    "results.tail(1)"
   ]
  }
 ],
 "metadata": {
  "kernelspec": {
   "display_name": "chemical_space",
   "language": "python",
   "name": "python3"
  },
  "language_info": {
   "codemirror_mode": {
    "name": "ipython",
    "version": 3
   },
   "file_extension": ".py",
   "mimetype": "text/x-python",
   "name": "python",
   "nbconvert_exporter": "python",
   "pygments_lexer": "ipython3",
   "version": "3.11.3"
  },
  "orig_nbformat": 4
 },
 "nbformat": 4,
 "nbformat_minor": 2
}
