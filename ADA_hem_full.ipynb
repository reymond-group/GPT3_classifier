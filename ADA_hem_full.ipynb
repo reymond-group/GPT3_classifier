{
 "cells": [
  {
   "cell_type": "code",
   "execution_count": 2,
   "metadata": {},
   "outputs": [],
   "source": [
    "import pandas as pd \n",
    "import openai\n",
    "import json\n",
    "\n",
    "openai.organization = 'YOUR ORGANIZATION ID'\n",
    "openai.api_key = 'YOUR API KEY'"
   ]
  },
  {
   "attachments": {},
   "cell_type": "markdown",
   "metadata": {},
   "source": [
    "Read and format data"
   ]
  },
  {
   "cell_type": "code",
   "execution_count": 2,
   "metadata": {},
   "outputs": [],
   "source": [
    "df = pd.read_csv('data/fine_tune_hemolysis.csv')\n",
    "\n",
    "# Training set\n",
    "df_train = df[df['Set'] == 'training']\n",
    "df_train = df_train[['Sequence', 'isNotHemolytic']]\n",
    "df_train.columns = ['prompt', 'completion']\n",
    "df_train = df_train[(df_train['completion'] == 0) | (df_train['completion'] == 1)].copy()\n",
    "df_train.to_json('data/hemolysis_seq_train.jsonl', orient='records', lines=True)\n",
    "\n",
    "# Test set\n",
    "df_test = df[df['Set'] == 'test']\n",
    "df_test = df_test[['Sequence', 'isNotHemolytic']]\n",
    "df_test.columns = ['prompt', 'completion']\n",
    "df_test = df_test[(df_test['completion'] == 0) | (df_test['completion'] == 1)].copy()\n",
    "df_test.to_json('data/hemolysis_seq_test.jsonl', orient='records', lines=True)"
   ]
  },
  {
   "attachments": {},
   "cell_type": "markdown",
   "metadata": {},
   "source": [
    "Prepare data for submission with OpenAI API"
   ]
  },
  {
   "cell_type": "code",
   "execution_count": null,
   "metadata": {},
   "outputs": [],
   "source": [
    "# openai tools fine_tunes.prepare_data -f hemolysis_seq_train.jsonl    \n",
    "# openai tools fine_tunes.prepare_data -f hemolysis_seq_test.jsonl"
   ]
  },
  {
   "attachments": {},
   "cell_type": "markdown",
   "metadata": {},
   "source": [
    "Train the model"
   ]
  },
  {
   "cell_type": "code",
   "execution_count": null,
   "metadata": {},
   "outputs": [],
   "source": [
    "# openai --api-key 'YOUR API KEY' api fine_tunes.create -t \"hemolysis_seq_train_prepared.jsonl\" -v \"hemolysis_seq_test_prepared.jsonl\" --compute_classification_metrics --classification_positive_class \" 1\" --model ada --suffix 'hemolysis' --n_epochs 10"
   ]
  },
  {
   "cell_type": "code",
   "execution_count": null,
   "metadata": {},
   "outputs": [],
   "source": [
    "# openai --api-key 'YOUR API KEY' api fine_tunes.follow -i ft-gUP4lUBAqM9bc7LWocAu0A1O"
   ]
  },
  {
   "attachments": {},
   "cell_type": "markdown",
   "metadata": {},
   "source": [
    "Check results of classification"
   ]
  },
  {
   "cell_type": "code",
   "execution_count": null,
   "metadata": {},
   "outputs": [],
   "source": [
    "# openai --api-key 'YOUR API KEY' api fine_tunes.results -i ft-gUP4lUBAqM9bc7LWocAu0A1O > result_hemolysis.csv"
   ]
  },
  {
   "cell_type": "code",
   "execution_count": 3,
   "metadata": {},
   "outputs": [
    {
     "data": {
      "text/html": [
       "<div>\n",
       "<style scoped>\n",
       "    .dataframe tbody tr th:only-of-type {\n",
       "        vertical-align: middle;\n",
       "    }\n",
       "\n",
       "    .dataframe tbody tr th {\n",
       "        vertical-align: top;\n",
       "    }\n",
       "\n",
       "    .dataframe thead th {\n",
       "        text-align: right;\n",
       "    }\n",
       "</style>\n",
       "<table border=\"1\" class=\"dataframe\">\n",
       "  <thead>\n",
       "    <tr style=\"text-align: right;\">\n",
       "      <th></th>\n",
       "      <th>step</th>\n",
       "      <th>elapsed_tokens</th>\n",
       "      <th>elapsed_examples</th>\n",
       "      <th>training_loss</th>\n",
       "      <th>training_sequence_accuracy</th>\n",
       "      <th>training_token_accuracy</th>\n",
       "      <th>validation_loss</th>\n",
       "      <th>validation_sequence_accuracy</th>\n",
       "      <th>validation_token_accuracy</th>\n",
       "      <th>classification/accuracy</th>\n",
       "      <th>classification/precision</th>\n",
       "      <th>classification/recall</th>\n",
       "      <th>classification/auroc</th>\n",
       "      <th>classification/auprc</th>\n",
       "      <th>classification/f1.0</th>\n",
       "    </tr>\n",
       "  </thead>\n",
       "  <tbody>\n",
       "    <tr>\n",
       "      <th>8615</th>\n",
       "      <td>8616</td>\n",
       "      <td>328800</td>\n",
       "      <td>17232</td>\n",
       "      <td>0.007632</td>\n",
       "      <td>1.0</td>\n",
       "      <td>1.0</td>\n",
       "      <td>NaN</td>\n",
       "      <td>NaN</td>\n",
       "      <td>NaN</td>\n",
       "      <td>0.827458</td>\n",
       "      <td>0.798206</td>\n",
       "      <td>0.787611</td>\n",
       "      <td>0.8997</td>\n",
       "      <td>0.869944</td>\n",
       "      <td>0.792873</td>\n",
       "    </tr>\n",
       "  </tbody>\n",
       "</table>\n",
       "</div>"
      ],
      "text/plain": [
       "      step  elapsed_tokens  elapsed_examples  training_loss  \\\n",
       "8615  8616          328800             17232       0.007632   \n",
       "\n",
       "      training_sequence_accuracy  training_token_accuracy  validation_loss  \\\n",
       "8615                         1.0                      1.0              NaN   \n",
       "\n",
       "      validation_sequence_accuracy  validation_token_accuracy  \\\n",
       "8615                           NaN                        NaN   \n",
       "\n",
       "      classification/accuracy  classification/precision  \\\n",
       "8615                 0.827458                  0.798206   \n",
       "\n",
       "      classification/recall  classification/auroc  classification/auprc  \\\n",
       "8615               0.787611                0.8997              0.869944   \n",
       "\n",
       "      classification/f1.0  \n",
       "8615             0.792873  "
      ]
     },
     "execution_count": 3,
     "metadata": {},
     "output_type": "execute_result"
    }
   ],
   "source": [
    "results = pd.read_csv('data/result_hemolysis.csv')\n",
    "results.tail(1)"
   ]
  }
 ],
 "metadata": {
  "kernelspec": {
   "display_name": "chemical_space",
   "language": "python",
   "name": "python3"
  },
  "language_info": {
   "codemirror_mode": {
    "name": "ipython",
    "version": 3
   },
   "file_extension": ".py",
   "mimetype": "text/x-python",
   "name": "python",
   "nbconvert_exporter": "python",
   "pygments_lexer": "ipython3",
   "version": "3.11.3"
  },
  "orig_nbformat": 4
 },
 "nbformat": 4,
 "nbformat_minor": 2
}
